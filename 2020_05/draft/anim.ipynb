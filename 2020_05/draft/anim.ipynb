{
 "cells": [
  {
   "cell_type": "code",
   "execution_count": 9,
   "metadata": {},
   "outputs": [],
   "source": [
    "import numpy as np\n",
    "import matplotlib.pyplot as plt\n",
    "import matplotlib.animation as animation\n",
    "\n",
    "plt.style.use(\"seaborn-pastel\")\n",
    "plt.ioff()\n",
    "\n",
    "fig = plt.figure()\n",
    "ims = []\n",
    "\n",
    "for i in range(5):\n",
    "    im = plt.plot(np.random.normal(size=4))\n",
    "    ims.append(im)\n",
    "    \n",
    "anim = animation.ArtistAnimation(\n",
    "        fig,\n",
    "        ims,\n",
    "        interval=500,\n",
    "        blit=True,\n",
    "        repeat_delay=1000\n",
    "    )\n",
    "\n",
    "img_file = \"anim_map.mp4\"\n",
    "\n",
    "try:\n",
    "    anim.save(img_file)\n",
    "except:\n",
    "    pass"
   ]
  },
  {
   "cell_type": "code",
   "execution_count": 14,
   "metadata": {},
   "outputs": [
    {
     "data": {
      "text/html": [
       "<video width=\"320\" height=\"240\" controls><source src=\"anim_map.mp4\" type=\"video/mp4\"></video>"
      ],
      "text/plain": [
       "<IPython.core.display.HTML object>"
      ]
     },
     "execution_count": 14,
     "metadata": {},
     "output_type": "execute_result"
    }
   ],
   "source": [
    "from IPython.display import HTML\n",
    "HTML('<video width=\"320\" height=\"240\" controls><source src=\"anim_map.mp4\" type=\"video/mp4\"></video>')"
   ]
  },
  {
   "cell_type": "code",
   "execution_count": null,
   "metadata": {},
   "outputs": [],
   "source": []
  }
 ],
 "metadata": {
  "kernelspec": {
   "display_name": "Python 3",
   "language": "python",
   "name": "python3"
  },
  "language_info": {
   "codemirror_mode": {
    "name": "ipython",
    "version": 3
   },
   "file_extension": ".py",
   "mimetype": "text/x-python",
   "name": "python",
   "nbconvert_exporter": "python",
   "pygments_lexer": "ipython3",
   "version": "3.6.9"
  }
 },
 "nbformat": 4,
 "nbformat_minor": 4
}
